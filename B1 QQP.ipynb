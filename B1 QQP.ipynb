{
 "cells": [
  {
   "cell_type": "markdown",
   "metadata": {},
   "source": [
    "## QQP\n",
    "En este notebook se contesta cada pregunta del inciso B."
   ]
  },
  {
   "cell_type": "code",
   "execution_count": 1,
   "metadata": {
    "scrolled": true
   },
   "outputs": [
    {
     "name": "stdout",
     "output_type": "stream",
     "text": [
      "root\n",
      " |-- producto: string (nullable = true)\n",
      " |-- presentacion: string (nullable = true)\n",
      " |-- marca: string (nullable = true)\n",
      " |-- categoria: string (nullable = true)\n",
      " |-- catalogo: string (nullable = true)\n",
      " |-- precio: double (nullable = true)\n",
      " |-- fechaRegistro: timestamp (nullable = true)\n",
      " |-- cadenaComercial: string (nullable = true)\n",
      " |-- giro: string (nullable = true)\n",
      " |-- nombreComercial: string (nullable = true)\n",
      " |-- direccion: string (nullable = true)\n",
      " |-- estado: string (nullable = true)\n",
      " |-- municipio: string (nullable = true)\n",
      " |-- latitud: string (nullable = true)\n",
      " |-- longitud: string (nullable = true)\n",
      "\n"
     ]
    }
   ],
   "source": [
    "from pyspark import SparkContext\n",
    "from pyspark.sql import Row\n",
    "from pyspark.sql import SQLContext\n",
    "sc =SparkContext()\n",
    "sqlContext = SQLContext(sc)\n",
    "df = sqlContext.read.csv('datos/all_data.csv', header=True, inferSchema= True)\n",
    "df.printSchema()"
   ]
  },
  {
   "cell_type": "markdown",
   "metadata": {},
   "source": [
    "# 1 Procesamiento de los datos"
   ]
  },
  {
   "cell_type": "markdown",
   "metadata": {},
   "source": [
    "Podemos obtener esta información con queries de SQL."
   ]
  },
  {
   "cell_type": "markdown",
   "metadata": {},
   "source": [
    "a. ¿Cuántos registros hay?"
   ]
  },
  {
   "cell_type": "code",
   "execution_count": 2,
   "metadata": {},
   "outputs": [
    {
     "name": "stdout",
     "output_type": "stream",
     "text": [
      "62530715\n"
     ]
    }
   ],
   "source": [
    "df.count().show()"
   ]
  },
  {
   "cell_type": "markdown",
   "metadata": {},
   "source": [
    "b. ¿Cuántas categorías?"
   ]
  },
  {
   "cell_type": "code",
   "execution_count": 7,
   "metadata": {},
   "outputs": [
    {
     "name": "stdout",
     "output_type": "stream",
     "text": [
      "+-------------------------+\n",
      "|count(DISTINCT categoria)|\n",
      "+-------------------------+\n",
      "|                       41|\n",
      "+-------------------------+\n",
      "\n"
     ]
    }
   ],
   "source": [
    "df.registerTempTable('profeco')\n",
    "query = sqlContext.sql('SELECT count(DISTINCT(categoria)) FROM profeco')\n",
    "query.show()"
   ]
  },
  {
   "cell_type": "markdown",
   "metadata": {},
   "source": [
    "c. ¿Cuántas cadenas comerciales están siendo monitoreadas? "
   ]
  },
  {
   "cell_type": "code",
   "execution_count": 8,
   "metadata": {},
   "outputs": [
    {
     "name": "stdout",
     "output_type": "stream",
     "text": [
      "+-------------------------------+\n",
      "|count(DISTINCT cadenaComercial)|\n",
      "+-------------------------------+\n",
      "|                            705|\n",
      "+-------------------------------+\n",
      "\n"
     ]
    }
   ],
   "source": [
    "query = sqlContext.sql('SELECT count(DISTINCT(cadenaComercial)) FROM profeco')\n",
    "query.show()"
   ]
  },
  {
   "cell_type": "markdown",
   "metadata": {},
   "source": [
    "d. ¿Cómo podrías determinar la calidad de los datos? ¿Detectaste algún tipo de \n",
    "inconsistencia o error en la fuente? "
   ]
  },
  {
   "cell_type": "markdown",
   "metadata": {},
   "source": [
    "La página del gobierno califica la calidad de los datos como \"Calidad oro\"; sin embargo, ésta solo la determinan con la existencia de algunos metadatos.\n",
    "\n",
    "Para determinar la calidad del conjunto de datos se pueden hacer algunas pruebas como contar el número de valores faltantes o nulos por columna, contar el número de registros duplicados o asegurarse de que no se mezclen los datos entre colunas.\n",
    "\n",
    "Aquí se cuentan los datos nulos por columna:"
   ]
  },
  {
   "cell_type": "code",
   "execution_count": 5,
   "metadata": {},
   "outputs": [
    {
     "name": "stdout",
     "output_type": "stream",
     "text": [
      "+--------+------------+-----+---------+--------+------+-------------+---------------+----+---------------+---------+------+---------+-------+--------+\n",
      "|producto|presentacion|marca|categoria|catalogo|precio|fechaRegistro|cadenaComercial|giro|nombreComercial|direccion|estado|municipio|latitud|longitud|\n",
      "+--------+------------+-----+---------+--------+------+-------------+---------------+----+---------------+---------+------+---------+-------+--------+\n",
      "|      20|          20|   20|   887358|     248|    20|           20|           1204| 307|             20|       20| 15074|    15074|  36834|   36834|\n",
      "+--------+------------+-----+---------+--------+------+-------------+---------------+----+---------------+---------+------+---------+-------+--------+\n",
      "\n"
     ]
    }
   ],
   "source": [
    "from pyspark.sql.functions import isnan, when, count, col, isnull\n",
    "df.select([count(when(isnull(c), c)).alias(c) for c in df.columns]).show()"
   ]
  },
  {
   "cell_type": "markdown",
   "metadata": {},
   "source": [
    "Teniendo en cuenta el número de registros la mayoría de las columnas siempre tiene algún valor con la excepción de categoría. También existen siempre al menos 20 datos nulos probablemente de los mismos 20 registros por lo que podrían eliminarse. Además de esto se notaron inconsistencias en los datos, por ejemplo, se incluyen valores de marcas en la columna de productos o dirección en los estados. Obtener los mejores resultados de estos datos requeriría de algo de limpieza."
   ]
  },
  {
   "cell_type": "markdown",
   "metadata": {},
   "source": [
    "e. ¿Cuáles son los productos más monitoreados en cada entidad? "
   ]
  },
  {
   "cell_type": "markdown",
   "metadata": {},
   "source": [
    "Se obtienen los productos por estado con mayor número de registros."
   ]
  },
  {
   "cell_type": "code",
   "execution_count": 16,
   "metadata": {},
   "outputs": [
    {
     "name": "stdout",
     "output_type": "stream",
     "text": [
      "+--------------------+--------------------+\n",
      "|              estado|            producto|\n",
      "+--------------------+--------------------+\n",
      "|        QUINTANA ROO|                 FUD|\n",
      "|          NUEVO LEÓN|   DETERGENTE P/ROPA|\n",
      "|             SINALOA|            REFRESCO|\n",
      "|             TABASCO|            REFRESCO|\n",
      "|     BAJA CALIFORNIA|            REFRESCO|\n",
      "|            TLAXCALA|            REFRESCO|\n",
      "|COAHUILA DE ZARAGOZA|                 FUD|\n",
      "|                null|LECHE ULTRAPASTEU...|\n",
      "|       ESQ. SUR 125\"|  PAN BLANCO BOLILLO|\n",
      "| COL. EDUARDO GUERRA|            REFRESCO|\n",
      "|             CHIAPAS|            REFRESCO|\n",
      "|VERACRUZ DE IGNAC...|            REFRESCO|\n",
      "|              SONORA|            REFRESCO|\n",
      "|             YUCATÁN|LECHE ULTRAPASTEU...|\n",
      "| MICHOACÁN DE OCAMPO|   DETERGENTE P/ROPA|\n",
      "|             DURANGO|   DETERGENTE P/ROPA|\n",
      "|            GUERRERO|            REFRESCO|\n",
      "|             NAYARIT|            REFRESCO|\n",
      "|           CHIHUAHUA|   DETERGENTE P/ROPA|\n",
      "|    DISTRITO FEDERAL|            REFRESCO|\n",
      "+--------------------+--------------------+\n",
      "only showing top 20 rows\n",
      "\n"
     ]
    }
   ],
   "source": [
    "edo_producto = sqlContext.sql('SELECT  estado, producto FROM ( SELECT estado, producto, count(producto) as q, ROW_NUMBER() OVER ( PARTITION BY estado ORDER BY count(producto) DESC) AS rn FROM profeco GROUP BY estado, producto) t WHERE rn = 1')\n",
    "edo_producto.show()"
   ]
  },
  {
   "cell_type": "markdown",
   "metadata": {},
   "source": [
    "f. ¿Cuál es la cadena comercial con mayor variedad de productos monitoreados? "
   ]
  },
  {
   "cell_type": "markdown",
   "metadata": {},
   "source": [
    "Cadena con más productos distintos."
   ]
  },
  {
   "cell_type": "code",
   "execution_count": 21,
   "metadata": {
    "scrolled": true
   },
   "outputs": [
    {
     "name": "stdout",
     "output_type": "stream",
     "text": [
      "+---------------+----+\n",
      "|cadenaComercial|   q|\n",
      "+---------------+----+\n",
      "|        SORIANA|1059|\n",
      "+---------------+----+\n",
      "\n"
     ]
    }
   ],
   "source": [
    "cad_producto = sqlContext.sql('SELECT cadenaComercial, count(DISTINCT(producto)) as q FROM profeco GROUP BY cadenaComercial ORDER BY q DESC LIMIT 1')\n",
    "cad_producto.show()"
   ]
  },
  {
   "cell_type": "markdown",
   "metadata": {},
   "source": [
    "Las 10 cadenas con mayor variedad:"
   ]
  },
  {
   "cell_type": "code",
   "execution_count": 22,
   "metadata": {},
   "outputs": [
    {
     "name": "stdout",
     "output_type": "stream",
     "text": [
      "+--------------------+----+\n",
      "|     cadenaComercial|   q|\n",
      "+--------------------+----+\n",
      "|             SORIANA|1059|\n",
      "|            WAL-MART|1051|\n",
      "|MEGA COMERCIAL ME...|1049|\n",
      "|  COMERCIAL MEXICANA|1036|\n",
      "|            CHEDRAUI|1026|\n",
      "|     MERCADO SORIANA|1024|\n",
      "|      BODEGA AURRERA|1012|\n",
      "|HIPERMERCADO SORIANA|1006|\n",
      "|              H.E.B.|1001|\n",
      "|        SORIANA PLUS| 999|\n",
      "+--------------------+----+\n",
      "\n"
     ]
    }
   ],
   "source": [
    "cad_producto = sqlContext.sql('SELECT cadenaComercial, count(DISTINCT(producto)) as q FROM profeco GROUP BY cadenaComercial ORDER BY q DESC LIMIT 10')\n",
    "cad_producto.show()"
   ]
  },
  {
   "cell_type": "markdown",
   "metadata": {},
   "source": [
    "# 2 Análisis exploratorio"
   ]
  },
  {
   "cell_type": "markdown",
   "metadata": {},
   "source": [
    "a. Genera una canasta de productos básicos que te permita comparar los precios \n",
    "geográfica y temporalmente. Justifica tu elección y procedimiento "
   ]
  },
  {
   "cell_type": "markdown",
   "metadata": {},
   "source": [
    "Al final se utilizó un subconjunto de la canasta que presenta el gobierno en sus [boletines de prensa](https://www.gob.mx/profeco/es/prensa/boletin-de-prensa-006-2018-publicara-profeco-semanalmente-comparativo-de-listado-de-precios-de-productos-de-canasta-basica?idiom=es). A continuación se explica el prodecimiento.\n",
    "\n",
    "Primero observamos los distintos catálogos que existen en la tabla."
   ]
  },
  {
   "cell_type": "code",
   "execution_count": 9,
   "metadata": {
    "scrolled": true
   },
   "outputs": [
    {
     "name": "stdout",
     "output_type": "stream",
     "text": [
      "+--------------------+\n",
      "|            catalogo|\n",
      "+--------------------+\n",
      "|                null|\n",
      "|             BASICOS|\n",
      "|   ELECTRODOMESTICOS|\n",
      "|  FRUTAS Y LEGUMBRES|\n",
      "|            JUGUETES|\n",
      "|        MEDICAMENTOS|\n",
      "|            MERCADOS|\n",
      "|           NAVIDEÑOS|\n",
      "| PESCADOS Y MARISCOS|\n",
      "|REGIONALES MONTERREY|\n",
      "|               TENIS|\n",
      "|    UTILES ESCOLARES|\n",
      "|            catalogo|\n",
      "+--------------------+\n",
      "\n"
     ]
    }
   ],
   "source": [
    "df.registerTempTable('profeco')\n",
    "prods = sqlContext.sql('SELECT DISTINCT catalogo FROM profeco ORDER BY catalogo LIMIT 40')\n",
    "prods.show()"
   ]
  },
  {
   "cell_type": "markdown",
   "metadata": {},
   "source": [
    "Al existir un catálogo de basicos podríamos suponer que estos cuentan con los productos más básicos para los mexicanos y podríamos contruir una canasta con base en ello.\n",
    "\n",
    "Observamos las categorias del catálogo básico."
   ]
  },
  {
   "cell_type": "code",
   "execution_count": 12,
   "metadata": {
    "scrolled": false
   },
   "outputs": [
    {
     "name": "stdout",
     "output_type": "stream",
     "text": [
      "+--------------------+\n",
      "|           categoria|\n",
      "+--------------------+\n",
      "|                null|\n",
      "|ACCESORIOS DOMEST...|\n",
      "|ACEITES Y GRASAS ...|\n",
      "|ARROZ Y CEREALES ...|\n",
      "|ARTS. DE PAPEL P/...|\n",
      "|ARTS. PARA EL CUI...|\n",
      "|              AZUCAR|\n",
      "|                CAFE|\n",
      "|        CARNE DE AVE|\n",
      "|CARNE Y VISCERAS ...|\n",
      "|CARNE Y VISCERAS ...|\n",
      "|CARNES FRIAS SECA...|\n",
      "|             CERVEZA|\n",
      "|CHOCOLATES Y GOLO...|\n",
      "|         CIGARRILLOS|\n",
      "|         CONDIMENTOS|\n",
      "|  DERIVADOS DE LECHE|\n",
      "|DETERGENTES Y PRO...|\n",
      "|FRUTAS Y LEGUMBRE...|\n",
      "|GALLETAS PASTAS Y...|\n",
      "+--------------------+\n",
      "only showing top 20 rows\n",
      "\n"
     ]
    }
   ],
   "source": [
    "prods = sqlContext.sql('SELECT DISTINCT categoria FROM profeco WHERE catalogo = \"BASICOS\" ORDER BY categoria')\n",
    "prods.show()"
   ]
  },
  {
   "cell_type": "markdown",
   "metadata": {},
   "source": [
    "A pesar de estos datos, resulta muy difícil determinar un subconjunto de productos en estas categorías por lo que se buscó en internet información de PROFECO sobre su canasta básica.\n",
    "\n",
    "Se encontraron algunos comunicados de prensa donde el PROFECO monitorea el precio de 12 productos de la canasta básica, afortunadamente en la tabla que muestran vienen los productos y presentaciones tal cual la ponen en la base de datos QQP. Para este ejercicio se tomaron 5 productos de los 12 que presenta el PROFECO. Se ordenan cronológicamente y se incluye información geográfica"
   ]
  },
  {
   "cell_type": "code",
   "execution_count": 27,
   "metadata": {
    "scrolled": true
   },
   "outputs": [
    {
     "name": "stdout",
     "output_type": "stream",
     "text": [
      "+------------------+--------------------+------+-------------------+----------------+--------------------+\n",
      "|          producto|        presentacion|precio|      fechaRegistro|          estado|           municipio|\n",
      "+------------------+--------------------+------+-------------------+----------------+--------------------+\n",
      "|PAN BLANCO BOLILLO|               PIEZA|   1.2|2011-01-10 00:00:00|          MÉXICO|ATIZAPAN         ...|\n",
      "|            AZUCAR|BOLSA PLASTICO 2 ...|  34.9|2011-01-10 00:00:00|          MÉXICO|ATIZAPAN         ...|\n",
      "|  TORTILLA DE MAIZ|        1 KG. GRANEL|   7.5|2011-01-10 00:00:00|          MÉXICO|ATIZAPAN         ...|\n",
      "|            AZUCAR|BOLSA PLASTICO 2 ...|  34.9|2011-01-10 00:00:00|DISTRITO FEDERAL|BENITO JUAREZ    ...|\n",
      "|             HUEVO|PAQUETE CON 18 BL...| 27.37|2011-01-10 00:00:00|DISTRITO FEDERAL|BENITO JUAREZ    ...|\n",
      "|             HUEVO|PAQUETE CON 18 BL...|  24.1|2011-01-10 00:00:00|DISTRITO FEDERAL|BENITO JUAREZ    ...|\n",
      "|  TORTILLA DE MAIZ|        1 KG. GRANEL|   8.9|2011-01-10 00:00:00|DISTRITO FEDERAL|BENITO JUAREZ    ...|\n",
      "|PAN BLANCO BOLILLO|               PIEZA|   1.2|2011-01-10 00:00:00|          MÉXICO|NAUCALPAN        ...|\n",
      "|            AZUCAR|BOLSA PLASTICO 2 ...|  36.0|2011-01-10 00:00:00|          MÉXICO|NAUCALPAN        ...|\n",
      "|             HUEVO|PAQUETE CON 18 BL...|  27.0|2011-01-10 00:00:00|          MÉXICO|NAUCALPAN        ...|\n",
      "|             HUEVO|PAQUETE CON 18 BL...|  25.6|2011-01-10 00:00:00|          MÉXICO|NAUCALPAN        ...|\n",
      "|             HUEVO|PAQUETE CON 18 BL...|  33.0|2011-01-10 00:00:00|          MÉXICO|NAUCALPAN        ...|\n",
      "|  TORTILLA DE MAIZ|        1 KG. GRANEL|   7.3|2011-01-10 00:00:00|          MÉXICO|NAUCALPAN        ...|\n",
      "|             HUEVO|PAQUETE CON 18 BL...|  30.0|2011-01-10 00:00:00|          MÉXICO|NAUCALPAN        ...|\n",
      "|  TORTILLA DE MAIZ|        1 KG. GRANEL|   8.0|2011-01-10 00:00:00|DISTRITO FEDERAL|BENITO JUAREZ    ...|\n",
      "|  TORTILLA DE MAIZ|        1 KG. GRANEL|   8.5|2011-01-10 00:00:00|DISTRITO FEDERAL|BENITO JUAREZ    ...|\n",
      "|  TORTILLA DE MAIZ|        1 KG. GRANEL|   8.5|2011-01-10 00:00:00|DISTRITO FEDERAL|BENITO JUAREZ    ...|\n",
      "|  TORTILLA DE MAIZ|        1 KG. GRANEL|   9.0|2011-01-10 00:00:00|DISTRITO FEDERAL|BENITO JUAREZ    ...|\n",
      "|  TORTILLA DE MAIZ|        1 KG. GRANEL|   9.0|2011-01-10 00:00:00|DISTRITO FEDERAL|CUAUHTEMOC       ...|\n",
      "|  TORTILLA DE MAIZ|        1 KG. GRANEL|   9.0|2011-01-10 00:00:00|DISTRITO FEDERAL|CUAUHTEMOC       ...|\n",
      "+------------------+--------------------+------+-------------------+----------------+--------------------+\n",
      "only showing top 20 rows\n",
      "\n"
     ]
    }
   ],
   "source": [
    "canasta_prod = ['TORTILLA DE MAIZ','PAN BLANCO BOLILLO','JITOMATE','HUEVO','AZUCAR']\n",
    "canasta_pres = ['1 KG. GRANEL','PIEZA','1KG. SALADETTE','PAQUETE CON 18 BLANCO','BOLSA PLASTICO 2 KG. ESTANDAR MORENA']\n",
    "df_canasta = df.filter(df.producto.isin(canasta_prod) & df.presentacion.isin(canasta_pres)).select('producto','presentacion','precio','fechaRegistro','estado','municipio')\n",
    "df_canasta.show()"
   ]
  },
  {
   "cell_type": "markdown",
   "metadata": {},
   "source": [
    "b. ¿Cuál es la ciudad más cara del país? ¿Cuál es la más barata? "
   ]
  },
  {
   "cell_type": "markdown",
   "metadata": {},
   "source": [
    "Tomando municipio como ciudad, primero obtenemos el precio promedio de cada producto de nuestra canasta por municipio."
   ]
  },
  {
   "cell_type": "code",
   "execution_count": 50,
   "metadata": {
    "scrolled": true
   },
   "outputs": [
    {
     "name": "stdout",
     "output_type": "stream",
     "text": [
      "+--------------------+------------------+------------------+\n",
      "|           municipio|          producto|       avg(precio)|\n",
      "+--------------------+------------------+------------------+\n",
      "|SAN PEDRO GARZA G...|  TORTILLA DE MAIZ|12.381562499999998|\n",
      "|MONTERREY        ...|            AZUCAR| 30.96954088952653|\n",
      "|              TOLUCA|            AZUCAR|29.420138888888907|\n",
      "|LEON             ...|            AZUCAR|31.271872440023404|\n",
      "|TLALNEPANTLA     ...|PAN BLANCO BOLILLO| 1.434066587395957|\n",
      "|ECATEPEC         ...|             HUEVO|  34.6389055533036|\n",
      "|             TORREÓN|            AZUCAR|30.800338983050843|\n",
      "|          XOCHIMILCO|PAN BLANCO BOLILLO|1.4060606060606065|\n",
      "|APODACA          ...|  TORTILLA DE MAIZ|12.338227394807516|\n",
      "|ZAPOPAN          ...|PAN BLANCO BOLILLO|1.3577823129251705|\n",
      "|HUAMANTLA        ...|  TORTILLA DE MAIZ| 9.686979865771812|\n",
      "|             ORIZABA|            AZUCAR| 31.89189189189189|\n",
      "|    GENERAL ESCOBEDO|PAN BLANCO BOLILLO|               2.1|\n",
      "|CULIACAN         ...|            AZUCAR| 30.31692307692307|\n",
      "|XOCHIMILCO       ...|  TORTILLA DE MAIZ|10.265926640926635|\n",
      "|           ZACATECAS|  TORTILLA DE MAIZ|10.950118483412322|\n",
      "|           IZTACALCO|             HUEVO| 33.48510638297872|\n",
      "|             APIZACO|PAN BLANCO BOLILLO|1.3274193548387088|\n",
      "|      SANTA CATARINA|  TORTILLA DE MAIZ|              14.0|\n",
      "|AGUA PRIETA      ...|            AZUCAR|23.782758620689652|\n",
      "+--------------------+------------------+------------------+\n",
      "only showing top 20 rows\n",
      "\n"
     ]
    }
   ],
   "source": [
    "df_canasta.registerTempTable('canasta')\n",
    "precio_por_producto = sqlContext.sql('SELECT municipio, producto, MEAN(precio) FROM canasta GROUP BY municipio, producto')\n",
    "precio_por_producto.show()"
   ]
  },
  {
   "cell_type": "markdown",
   "metadata": {},
   "source": [
    "Luego podemos obtener el precio de la canasta sumando los precios promedio por municipio. Finalmente obtenemos los 5 lugares más caros."
   ]
  },
  {
   "cell_type": "code",
   "execution_count": 63,
   "metadata": {
    "scrolled": false
   },
   "outputs": [
    {
     "name": "stdout",
     "output_type": "stream",
     "text": [
      "+--------------------+-----------------+\n",
      "|           municipio|    precioCanasta|\n",
      "+--------------------+-----------------+\n",
      "|          HERMOSILLO|84.82004100216747|\n",
      "|            MEXICALI|84.67196022015334|\n",
      "|HERMOSILLO       ...|83.86985419297031|\n",
      "|            ENSENADA|83.31922087652707|\n",
      "|              LA PAZ| 82.8684817577774|\n",
      "+--------------------+-----------------+\n",
      "\n"
     ]
    }
   ],
   "source": [
    "precio_por_producto.registerTempTable('promedios')\n",
    "sqlContext.sql('SELECT municipio, SUM(precioPROMEDIO) AS precioCanasta FROM promedios GROUP BY municipio ORDER BY precioCanasta DESC LIMIT 5').show()"
   ]
  },
  {
   "cell_type": "markdown",
   "metadata": {},
   "source": [
    "Y los 5 más baratos de acuerdo a nuestra canasta."
   ]
  },
  {
   "cell_type": "code",
   "execution_count": 62,
   "metadata": {},
   "outputs": [
    {
     "name": "stdout",
     "output_type": "stream",
     "text": [
      "+--------------------+------------------+\n",
      "|           municipio|     precioCanasta|\n",
      "+--------------------+------------------+\n",
      "|TLAJOMULCO DE ZUÑ...| 8.426470588235293|\n",
      "|ATIZAPAN DE ZARAG...| 10.58695652173913|\n",
      "|SAN MATEO ATENCO ...|              10.7|\n",
      "|ZINACANTEPEC     ...|11.262975778546712|\n",
      "|ATIZAPÁN DE ZARAGOZA|11.267379679144385|\n",
      "+--------------------+------------------+\n",
      "\n"
     ]
    }
   ],
   "source": [
    "sqlContext.sql('SELECT municipio, SUM(precioPROMEDIO) AS precioCanasta FROM promedios GROUP BY municipio ORDER BY precioCanasta LIMIT 5').show()"
   ]
  },
  {
   "cell_type": "markdown",
   "metadata": {},
   "source": [
    "c. ¿Hay algún patrón estacional entre años? "
   ]
  },
  {
   "cell_type": "markdown",
   "metadata": {},
   "source": [
    "Obtenemos el precio promedio de cada producto por mes y año."
   ]
  },
  {
   "cell_type": "code",
   "execution_count": 65,
   "metadata": {
    "scrolled": false
   },
   "outputs": [
    {
     "name": "stdout",
     "output_type": "stream",
     "text": [
      "+----+---+------------------+------------------+\n",
      "| ano|mes|          producto|     precioCanasta|\n",
      "+----+---+------------------+------------------+\n",
      "|2011|  1|PAN BLANCO BOLILLO|1.2837943056362577|\n",
      "|2011|  1|  TORTILLA DE MAIZ| 9.299332748024586|\n",
      "|2011|  1|             HUEVO| 27.68583593750001|\n",
      "|2011|  1|            AZUCAR|  32.6682958199357|\n",
      "|2011|  2|PAN BLANCO BOLILLO|1.2932756324900128|\n",
      "|2011|  2|             HUEVO|28.287561950439652|\n",
      "|2011|  2|  TORTILLA DE MAIZ| 9.437223039215688|\n",
      "|2011|  2|            AZUCAR|31.464102564102564|\n",
      "|2011|  3|            AZUCAR| 31.26919885550787|\n",
      "|2011|  3|PAN BLANCO BOLILLO|1.2895040369088806|\n",
      "|2011|  3|             HUEVO|  28.4340393442623|\n",
      "|2011|  3|  TORTILLA DE MAIZ| 9.756831075359868|\n",
      "|2011|  4|  TORTILLA DE MAIZ|  9.93279515871204|\n",
      "|2011|  4|             HUEVO| 27.73522297808012|\n",
      "|2011|  4|PAN BLANCO BOLILLO|1.2904174340085937|\n",
      "|2011|  4|            AZUCAR| 32.13459715639811|\n",
      "|2011|  5|            AZUCAR|32.704333333333345|\n",
      "|2011|  5|PAN BLANCO BOLILLO|1.3038583569405093|\n",
      "|2011|  5|             HUEVO| 27.02483026874117|\n",
      "|2011|  5|  TORTILLA DE MAIZ|10.093961402780666|\n",
      "+----+---+------------------+------------------+\n",
      "only showing top 20 rows\n",
      "\n"
     ]
    }
   ],
   "source": [
    "historico_producto = sqlContext.sql('SELECT year(fechaRegistro) AS ano, month(fechaRegistro) AS mes, producto, MEAN(precio) AS precioCanasta FROM canasta GROUP BY ano, mes, producto ORDER BY ano, mes')\n",
    "historico_producto.show()"
   ]
  },
  {
   "cell_type": "markdown",
   "metadata": {},
   "source": [
    "Sumamos para obtener el precio de la canasta por mes y año."
   ]
  },
  {
   "cell_type": "code",
   "execution_count": 67,
   "metadata": {},
   "outputs": [
    {
     "name": "stdout",
     "output_type": "stream",
     "text": [
      "+----+---+-----------------+\n",
      "| ano|mes|     precioBasica|\n",
      "+----+---+-----------------+\n",
      "|2011|  1|70.93725881109656|\n",
      "|2011|  2|70.48216318624792|\n",
      "|2011|  3|70.74957331203892|\n",
      "|2011|  4|71.09303272719886|\n",
      "|2011|  5|71.12698336179568|\n",
      "|2011|  6|71.32752552238836|\n",
      "|2011|  7|72.67140631637109|\n",
      "|2011|  8| 74.7232786457111|\n",
      "|2011|  9|78.17886038719567|\n",
      "|2011| 10| 80.3244355491251|\n",
      "|2011| 11|81.96825220256306|\n",
      "|2011| 12|83.17899660741341|\n",
      "|2012|  1|83.78239184603271|\n",
      "|2012|  2|81.96237583840743|\n",
      "|2012|  3|81.63534306912058|\n",
      "|2012|  4|79.81438073390377|\n",
      "|2012|  5|79.03570987644252|\n",
      "|2012|  6|78.50425678115938|\n",
      "|2012|  7|79.94512974926916|\n",
      "|2012|  8| 80.4972747467866|\n",
      "+----+---+-----------------+\n",
      "only showing top 20 rows\n",
      "\n"
     ]
    }
   ],
   "source": [
    "historico_producto.registerTempTable('historico')\n",
    "historico = sqlContext.sql('SELECT ano, mes, SUM(precioCanasta) AS precioBasica FROM historico GROUP BY ano, mes ORDER BY ano, mes')\n",
    "historico.show()"
   ]
  },
  {
   "cell_type": "markdown",
   "metadata": {},
   "source": [
    "Se hace descomposición por estacionalidad y observamos gráficamente. Parece que los precios aumentan al final del año y diminuyen a mediados por lo que existe cierto patron de estacionalidad con nuestra canasta."
   ]
  },
  {
   "cell_type": "code",
   "execution_count": 69,
   "metadata": {},
   "outputs": [
    {
     "data": {
      "image/png": "[encoded data removed]",
      "text/plain": [
       "<Figure size 432x288 with 4 Axes>"
      ]
     },
     "metadata": {
      "needs_background": "light"
     },
     "output_type": "display_data"
    }
   ],
   "source": [
    "import statsmodels.api as sm\n",
    "import pandas as pd\n",
    "import matplotlib.pyplot as plt\n",
    "\n",
    "precios_mes = historico.toPandas().loc[:,'precioBasica']\n",
    "decomposition = sm.tsa.seasonal_decompose(precios_mes, model='additive',period=12)\n",
    "fig = decomposition.plot()\n",
    "plt.show()"
   ]
  },
  {
   "cell_type": "markdown",
   "metadata": {},
   "source": [
    "d. ¿Cuál es el estado más caro y en qué mes? "
   ]
  },
  {
   "cell_type": "markdown",
   "metadata": {},
   "source": [
    "e. ¿Cuáles son los principales riesgos de hacer análisis de series de tiempo con \n",
    "estos datos? "
   ]
  },
  {
   "cell_type": "markdown",
   "metadata": {},
   "source": [
    "Se tienen pocas variables que no toman en cuanta factores externos a solo los precios como puede ser la inflación. Se pueden cometer errores al predecir al no conocer otras variables y hacer modelos solo con los datos actuales."
   ]
  },
  {
   "cell_type": "markdown",
   "metadata": {},
   "source": [
    "# 3 Visualización\n",
    "a. Genera un mapa que nos permita identificar la oferta de categorías en la zona \n",
    "metropolitana de León Guanajuato y el nivel de precios en cada una de ellas. Se \n",
    "darán puntos extra si el mapa es interactivo "
   ]
  },
  {
   "cell_type": "markdown",
   "metadata": {},
   "source": [
    "En este caso solo se seleccionaron datos del precio de una categoria: azúcar, debido a que hubieron complicaciones con la calidad de los datos."
   ]
  },
  {
   "cell_type": "code",
   "execution_count": 2,
   "metadata": {
    "scrolled": false
   },
   "outputs": [
    {
     "name": "stdout",
     "output_type": "stream",
     "text": [
      "Row(municipio='LEON                                    ')\n"
     ]
    }
   ],
   "source": [
    "df.registerTempTable('profeco')\n",
    "m = sqlContext.sql('SELECT municipio FROM profeco WHERE estado =\"GUANAJUATO\"').first()\n",
    "print(m)"
   ]
  },
  {
   "cell_type": "code",
   "execution_count": 3,
   "metadata": {
    "scrolled": false
   },
   "outputs": [
    {
     "name": "stdout",
     "output_type": "stream",
     "text": [
      "+------------------+---------+-----------+\n",
      "|   precioCategoria|  latitud|   longitud|\n",
      "+------------------+---------+-----------+\n",
      "| 35.56354748603352|21.095156| -101.62957|\n",
      "|29.752475247524753|21.107162|-101.660872|\n",
      "| 33.25969696969697|21.141389|-101.687397|\n",
      "|28.238387096774197|21.148644|-101.704063|\n",
      "|33.128729281767924|21.132543|-101.659225|\n",
      "|  33.2878453038674|21.161521|-101.691985|\n",
      "| 37.41382113821136|21.124324|-101.685945|\n",
      "| 34.72023684210526|21.099966|-101.670745|\n",
      "| 34.50390804597701|21.139468|  -101.6871|\n",
      "| 33.41811594202899|21.146492|-101.684757|\n",
      "|34.397590361445786|21.125658| -101.68559|\n",
      "|31.885661764705873|21.103839|-101.693575|\n",
      "+------------------+---------+-----------+\n",
      "\n"
     ]
    }
   ],
   "source": [
    "leon = sqlContext.sql('SELECT MEAN(precio) as precioCategoria, latitud, longitud FROM profeco WHERE categoria=\"AZUCAR\" AND estado=\"GUANAJUATO\" AND municipio=\"LEON                                    \" GROUP BY latitud, longitud')\n",
    "leon.show()"
   ]
  },
  {
   "cell_type": "code",
   "execution_count": 4,
   "metadata": {
    "scrolled": true
   },
   "outputs": [],
   "source": [
    "leon_cafe = leon.toPandas()\n",
    "locations = leon_cafe[['latitud', 'longitud']].astype('double')\n",
    "weight = leon_cafe['precioCategoria']"
   ]
  },
  {
   "cell_type": "markdown",
   "metadata": {},
   "source": [
    "Se muestran los lugares donde se vende el azucar, entre más intenso el rojo el precio es más elevado. Debido a los pocos registros de la categoría seleccionada se ven puntos dispersos en el mapa."
   ]
  },
  {
   "cell_type": "code",
   "execution_count": 7,
   "metadata": {
    "scrolled": true
   },
   "outputs": [
    {
     "data": {
      "application/vnd.jupyter.widget-view+json": {
       "model_id": "dbd5ceb7d9874a53b960864d159fa12c",
       "version_major": 2,
       "version_minor": 0
      },
      "text/plain": [
       "Figure(layout=FigureLayout(height='420px'))"
      ]
     },
     "metadata": {},
     "output_type": "display_data"
    }
   ],
   "source": [
    "import gmaps\n",
    "gmaps.configure(api_key='AI')\n",
    "fig = gmaps.figure()\n",
    "leon_coordinates = ('21.1218562','-101.8060975')\n",
    "gmaps.figure(center=leon_coordinates, zoom_level=12)\n",
    "fig.add_layer(gmaps.heatmap_layer(locations, weights=weight))\n",
    "fig"
   ]
  },
  {
   "cell_type": "markdown",
   "metadata": {},
   "source": [
    "![title](map.png)"
   ]
  }
 ],
 "metadata": {
  "kernelspec": {
   "display_name": "Python 3",
   "language": "python",
   "name": "python3"
  },
  "language_info": {
   "codemirror_mode": {
    "name": "ipython",
    "version": 3
   },
   "file_extension": ".py",
   "mimetype": "text/x-python",
   "name": "python",
   "nbconvert_exporter": "python",
   "pygments_lexer": "ipython3",
   "version": "3.6.4"
  }
 },
 "nbformat": 4,
 "nbformat_minor": 2
}
